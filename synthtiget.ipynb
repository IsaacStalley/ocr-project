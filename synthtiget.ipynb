{
 "cells": [
  {
   "cell_type": "code",
   "execution_count": 2,
   "metadata": {},
   "outputs": [],
   "source": [
    "# Read the gt.txt file and extract labels\n",
    "labels_file = r'C:\\Users\\IsaacStalley\\Documents\\GitHub\\synthtiger_v1.1\\gt.txt'\n",
    "labels = []\n",
    "with open(labels_file, 'r') as file:\n",
    "    for line in file:\n",
    "        label = line.strip().split('\\t')[1]\n",
    "        labels.append(label)"
   ]
  },
  {
   "cell_type": "code",
   "execution_count": 3,
   "metadata": {},
   "outputs": [
    {
     "name": "stdout",
     "output_type": "stream",
     "text": [
      "Vocabulary Size: 94\n",
      "Characters: {'7', 'h', 'L', 'I', '>', '|', 'q', 'm', 'f', 'T', '1', 'P', '2', '[', 'U', 'b', '9', '^', '0', 'v', '!', 'Y', '\"', 'R', '/', '?', 'n', ')', '@', '6', '&', 'e', 'j', 'F', 'S', 'O', 'y', '=', '8', 'a', 'k', 'g', 'x', '-', 'D', '#', 'C', ']', 'i', ':', '%', 'l', 'o', '3', 'd', 'H', '*', 'w', '<', 'p', '4', '$', 'X', 'Q', 'W', 'M', '+', 'B', '.', 'G', ';', 'z', 'Z', 'J', 'E', 'r', 's', '~', '{', 'u', '_', 'N', ',', '\\\\', 'K', \"'\", '`', '(', 'V', '5', '}', 'c', 't', 'A'}\n"
     ]
    }
   ],
   "source": [
    "# Calculate unique characters\n",
    "characters = set(''.join(labels))\n",
    "vocab_size = len(characters)\n",
    "\n",
    "print(\"Vocabulary Size:\", vocab_size)\n",
    "print(\"Characters:\", characters)"
   ]
  },
  {
   "cell_type": "code",
   "execution_count": 15,
   "metadata": {},
   "outputs": [],
   "source": [
    "import os\n",
    "from PIL import Image, ImageEnhance, ImageOps, ImageFilter, ImageDraw\n",
    "import random\n",
    "import numpy as np\n",
    "\n",
    "def random_exposure( image):\n",
    "        factor = random.uniform(0.2, 0.4)  # adjust exposure by a factor between 0.5 and 1.5\n",
    "        enhancer = ImageEnhance.Brightness(image)\n",
    "        return enhancer.enhance(factor)\n",
    "\n",
    "# Function to randomly invert colors\n",
    "def random_invert( image):\n",
    "    if random.random() < 1:  # 50% chance of inverting colors\n",
    "        return ImageOps.invert(image)\n",
    "    else:\n",
    "        return image\n",
    "\n",
    "# Function to randomly change colors\n",
    "def random_color_jitter( image):\n",
    "    r, g, b = image.split()\n",
    "    r = np.array(r)\n",
    "    g = np.array(g)\n",
    "    b = np.array(b)\n",
    "\n",
    "    r_shift = random.randint(-50, 50)\n",
    "    g_shift = random.randint(-50, 50)\n",
    "    b_shift = random.randint(-50, 50)\n",
    "\n",
    "    r = np.clip(r + r_shift, 0, 255)\n",
    "    g = np.clip(g + g_shift, 0, 255)\n",
    "    b = np.clip(b + b_shift, 0, 255)\n",
    "\n",
    "    r = Image.fromarray(r).convert('L')\n",
    "    g = Image.fromarray(g).convert('L')\n",
    "    b = Image.fromarray(b).convert('L')\n",
    "\n",
    "    return Image.merge('RGB', (r, g, b))\n",
    "\n",
    "\n",
    "# Function to randomly apply Gaussian blur\n",
    "def random_blur( image):\n",
    "    kernel_size = random.randint(0, 2) * 2 + 1  # Choose an odd kernel size between 3 and 11\n",
    "    return image.filter(ImageFilter.GaussianBlur(kernel_size))\n",
    "\n",
    "# Function to randomly add noise to the image\n",
    "def random_noise( image):\n",
    "    width, height = image.size\n",
    "    noise = np.random.randint(0, 10, (height, width, 3), dtype=np.uint8)\n",
    "    return Image.fromarray(np.clip(np.array(image) + noise, 0, 255).astype(np.uint8))\n",
    "\n",
    "# Apply random transformations to the image\n",
    "def apply_random_transformations( image):\n",
    "    image = random_exposure(image)\n",
    "    image = random_invert(image)\n",
    "    #image = random_color_jitter(image)\n",
    "    image = random_blur(image)\n",
    "    #image = self.random_noise(image)\n",
    "    return image\n",
    "\n",
    "    \n",
    "image = Image.open('test_images/new.png')\n",
    "image = image.convert('RGB')\n",
    "image = apply_random_transformations(image)\n",
    "draw = ImageDraw.Draw(image)\n",
    "\n",
    "image.show()"
   ]
  }
 ],
 "metadata": {
  "kernelspec": {
   "display_name": "Python 3",
   "language": "python",
   "name": "python3"
  },
  "language_info": {
   "codemirror_mode": {
    "name": "ipython",
    "version": 3
   },
   "file_extension": ".py",
   "mimetype": "text/x-python",
   "name": "python",
   "nbconvert_exporter": "python",
   "pygments_lexer": "ipython3",
   "version": "3.11.8"
  }
 },
 "nbformat": 4,
 "nbformat_minor": 2
}
