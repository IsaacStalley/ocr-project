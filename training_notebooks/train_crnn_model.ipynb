{
 "cells": [
  {
   "cell_type": "code",
   "execution_count": 11,
   "metadata": {},
   "outputs": [
    {
     "name": "stdout",
     "output_type": "stream",
     "text": [
      "device: cuda\n",
      "\n",
      "===== result =====\n",
      "../test_images/3802006.jpg > haulage\n"
     ]
    },
    {
     "name": "stderr",
     "output_type": "stream",
     "text": [
      "\n",
      "Predict:   0%|          | 0/1 [00:00<?, ?it/s]\n",
      "Predict: 100%|██████████| 1/1 [00:00<00:00,  3.83it/s]\n",
      "Predict: 100%|██████████| 1/1 [00:00<00:00,  3.82it/s]\n"
     ]
    }
   ],
   "source": [
    "IMAGE = '3802006.jpg'\n",
    "!py ../models/crnn-pytorch/src/predict.py ../test_images/$IMAGE -d greedy"
   ]
  }
 ],
 "metadata": {
  "kernelspec": {
   "display_name": "Python 3",
   "language": "python",
   "name": "python3"
  },
  "language_info": {
   "codemirror_mode": {
    "name": "ipython",
    "version": 3
   },
   "file_extension": ".py",
   "mimetype": "text/x-python",
   "name": "python",
   "nbconvert_exporter": "python",
   "pygments_lexer": "ipython3",
   "version": "3.11.8"
  }
 },
 "nbformat": 4,
 "nbformat_minor": 2
}
