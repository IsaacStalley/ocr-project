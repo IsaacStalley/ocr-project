{
 "cells": [
  {
   "cell_type": "code",
   "execution_count": 3,
   "metadata": {},
   "outputs": [
    {
     "name": "stdout",
     "output_type": "stream",
     "text": [
      "2024-04-10 13:43:33 - Using CUDA...\n",
      "2024-04-10 13:43:33 - Namespace(dataset_type='gnhk', datasets=['C:\\\\Users\\\\IsaacStalley\\\\Documents\\\\GitHub\\\\GNHKdataset'], balance_data=False, net='mb1-ssd', resolution=300, freeze_base_net=False, freeze_net=False, mb2_width_mult=1.0, base_net=None, pretrained_ssd='models/mobilenet-v1-ssd-mp-0_675.pth', resume=None, lr=0.01, momentum=0.9, weight_decay=0.0005, gamma=0.1, base_net_lr=0.001, extra_layers_lr=None, scheduler='cosine', milestones='80,100', t_max=100, batch_size=20, num_epochs=5, num_workers=0, validation_epochs=1, validation_mean_ap=False, debug_steps=10, use_cuda=True, checkpoint_folder='models/trained/gnhk', log_level='info')\n",
      "2024-04-10 13:43:34 - model resolution 300x300\n",
      "2024-04-10 13:43:34 - SSDSpec(feature_map_size=19, shrinkage=16, box_sizes=SSDBoxSizes(min=60, max=105), aspect_ratios=[2, 3])\n",
      "2024-04-10 13:43:34 - SSDSpec(feature_map_size=10, shrinkage=32, box_sizes=SSDBoxSizes(min=105, max=150), aspect_ratios=[2, 3])\n",
      "2024-04-10 13:43:34 - SSDSpec(feature_map_size=5, shrinkage=64, box_sizes=SSDBoxSizes(min=150, max=195), aspect_ratios=[2, 3])\n",
      "2024-04-10 13:43:34 - SSDSpec(feature_map_size=3, shrinkage=100, box_sizes=SSDBoxSizes(min=195, max=240), aspect_ratios=[2, 3])\n",
      "2024-04-10 13:43:34 - SSDSpec(feature_map_size=2, shrinkage=150, box_sizes=SSDBoxSizes(min=240, max=285), aspect_ratios=[2, 3])\n",
      "2024-04-10 13:43:34 - SSDSpec(feature_map_size=1, shrinkage=300, box_sizes=SSDBoxSizes(min=285, max=330), aspect_ratios=[2, 3])\n",
      "2024-04-10 13:43:34 - Prepare training datasets.\n",
      "2024-04-10 13:43:34 - <vision.datasets.gnhk_dataset.GnhkTextDataset object at 0x00000270ED147BD0>\n",
      "2024-04-10 13:43:34 - Stored labels into file models/trained/gnhk\\gnhk-labels.txt.\n",
      "2024-04-10 13:43:34 - Train dataset size: 515\n",
      "2024-04-10 13:43:34 - Prepare Validation datasets.\n"
     ]
    },
    {
     "name": "stderr",
     "output_type": "stream",
     "text": [
      "Traceback (most recent call last):\n",
      "  File \"C:\\Users\\IsaacStalley\\Documents\\GitHub\\ocr-project\\models\\pytorch-ssd\\train_ssd.py\", line 318, in <module>\n",
      "    logging.info(\"Validation dataset size: {}\".format(len(val_dataset)))\n",
      "                                                          ^^^^^^^^^^^\n",
      "NameError: name 'val_dataset' is not defined. Did you mean: 'VOCDataset'?\n"
     ]
    }
   ],
   "source": [
    "DATASET_PATH = r'C:\\Users\\IsaacStalley\\Documents\\GitHub\\GNHKdataset'\n",
    "!python ../models/pytorch-ssd/train_ssd.py --dataset-type=gnhk --data=C:\\Users\\IsaacStalley\\Documents\\GitHub\\GNHKdataset --model-dir=../models/trained/gnhk --batch-size=20 --epochs=25 --workers=0"
   ]
  },
  {
   "cell_type": "code",
   "execution_count": 1,
   "metadata": {},
   "outputs": [
    {
     "name": "stderr",
     "output_type": "stream",
     "text": [
      "Traceback (most recent call last):\n",
      "  File \"c:\\Users\\IsaacStalley\\Documents\\GitHub\\ocr-project\\models\\pytorch-ssd\\run_ssd_example.py\", line 34, in <module>\n",
      "    net.load(model_path)\n",
      "  File \"c:\\Users\\IsaacStalley\\Documents\\GitHub\\ocr-project\\models\\pytorch-ssd\\vision\\ssd\\ssd.py\", line 149, in load\n",
      "    self.load_state_dict(torch.load(model, map_location=lambda storage, loc: storage))\n",
      "                         ^^^^^^^^^^^^^^^^^^^^^^^^^^^^^^^^^^^^^^^^^^^^^^^^^^^^^^^^^^^^\n",
      "  File \"c:\\Users\\IsaacStalley\\AppData\\Local\\Programs\\Python\\Python311\\Lib\\site-packages\\torch\\serialization.py\", line 998, in load\n",
      "    with _open_file_like(f, 'rb') as opened_file:\n",
      "         ^^^^^^^^^^^^^^^^^^^^^^^^\n",
      "  File \"c:\\Users\\IsaacStalley\\AppData\\Local\\Programs\\Python\\Python311\\Lib\\site-packages\\torch\\serialization.py\", line 445, in _open_file_like\n",
      "    return _open_file(name_or_buffer, mode)\n",
      "           ^^^^^^^^^^^^^^^^^^^^^^^^^^^^^^^^\n",
      "  File \"c:\\Users\\IsaacStalley\\AppData\\Local\\Programs\\Python\\Python311\\Lib\\site-packages\\torch\\serialization.py\", line 426, in __init__\n",
      "    super().__init__(open(name, mode))\n",
      "                     ^^^^^^^^^^^^^^^^\n",
      "FileNotFoundError: [Errno 2] No such file or directory: '../models/trained/gnhk/mb1-ssd-Epoch-4-Loss-7.348059368133545.pth'\n"
     ]
    }
   ],
   "source": [
    "GNHK_MODEL = \"mb2-ssd-lite-Epoch-95-Loss-4.695927707048563.pth\"\n",
    "IMAGE = \"../test_images/eng_NA_145.jpg\"\n",
    "!python ../models/pytorch-ssd/run_ssd_example.py mb2-ssd-lite ../models/trained/gnhk/$GNHK_MODEL ../models/trained/gnhk/gnhk-labels.txt $IMAGE"
   ]
  }
 ],
 "metadata": {
  "kernelspec": {
   "display_name": "Python 3",
   "language": "python",
   "name": "python3"
  },
  "language_info": {
   "codemirror_mode": {
    "name": "ipython",
    "version": 3
   },
   "file_extension": ".py",
   "mimetype": "text/x-python",
   "name": "python",
   "nbconvert_exporter": "python",
   "pygments_lexer": "ipython3",
   "version": "3.11.8"
  }
 },
 "nbformat": 4,
 "nbformat_minor": 2
}
