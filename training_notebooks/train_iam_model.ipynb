{
 "cells": [
  {
   "cell_type": "code",
   "execution_count": null,
   "metadata": {},
   "outputs": [],
   "source": [
    "DATASET_PATH = r'C:\\Users\\IsaacStalley\\Documents\\GitHub\\GNHKdataset'\n",
    "!python ../models/pytorch-ssd/train_ssd.py --dataset-type=iam --data=C:\\Users\\IsaacStalley\\Documents\\GitHub\\IAM-dataset --model-dir=../models/trained/iam --epochs=5 --workers=0"
   ]
  },
  {
   "cell_type": "code",
   "execution_count": 19,
   "metadata": {},
   "outputs": [
    {
     "name": "stdout",
     "output_type": "stream",
     "text": [
      "Found 11 objects. The output image is run_ssd_example_output.jpg\n"
     ]
    }
   ],
   "source": [
    "SYNTHTEXT_MODEL = \"vgg16-ssd-Epoch-90-Loss-2.0508658090260976.pth\"\n",
    "IMAGE = \"../test_images/desert_4_108.jpg\"\n",
    "!python ../models/pytorch-ssd/run_ssd_example.py vgg16-ssd ../models/trained/vgg_three/$SYNTHTEXT_MODEL ../models/trained/vgg_three/iam-labels.txt $IMAGE"
   ]
  }
 ],
 "metadata": {
  "kernelspec": {
   "display_name": "Python 3",
   "language": "python",
   "name": "python3"
  },
  "language_info": {
   "codemirror_mode": {
    "name": "ipython",
    "version": 3
   },
   "file_extension": ".py",
   "mimetype": "text/x-python",
   "name": "python",
   "nbconvert_exporter": "python",
   "pygments_lexer": "ipython3",
   "version": "3.11.8"
  }
 },
 "nbformat": 4,
 "nbformat_minor": 2
}
