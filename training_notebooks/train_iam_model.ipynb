{
 "cells": [
  {
   "cell_type": "code",
   "execution_count": null,
   "metadata": {},
   "outputs": [],
   "source": [
    "DATASET_PATH = r'C:\\Users\\IsaacStalley\\Documents\\GitHub\\GNHKdataset'\n",
    "!python ../models/pytorch-ssd/train_ssd.py --dataset-type=iam --data=C:\\Users\\IsaacStalley\\Documents\\GitHub\\IAM-dataset --model-dir=../models/trained/iam --epochs=5 --workers=0"
   ]
  },
  {
   "cell_type": "code",
   "execution_count": 5,
   "metadata": {},
   "outputs": [
    {
     "name": "stdout",
     "output_type": "stream",
     "text": [
      "Found 18 objects. The output image is run_ssd_example_output.jpg\n"
     ]
    }
   ],
   "source": [
    "SYNTHTEXT_MODEL = \"mb1-ssd-Epoch-1-Loss-4.283346932041499.pth\"\n",
    "IMAGE = \"../test_images/farm_92_6.jpg\"\n",
    "!python ../models/pytorch-ssd/run_ssd_example.py mb1-ssd ../models/trained/three/$SYNTHTEXT_MODEL ../models/trained/three/iam-labels.txt $IMAGE"
   ]
  }
 ],
 "metadata": {
  "kernelspec": {
   "display_name": "Python 3",
   "language": "python",
   "name": "python3"
  },
  "language_info": {
   "codemirror_mode": {
    "name": "ipython",
    "version": 3
   },
   "file_extension": ".py",
   "mimetype": "text/x-python",
   "name": "python",
   "nbconvert_exporter": "python",
   "pygments_lexer": "ipython3",
   "version": "3.11.8"
  }
 },
 "nbformat": 4,
 "nbformat_minor": 2
}
