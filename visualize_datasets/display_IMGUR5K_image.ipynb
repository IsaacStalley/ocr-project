{
 "cells": [
  {
   "cell_type": "code",
   "execution_count": 64,
   "metadata": {},
   "outputs": [],
   "source": [
    "import json\n",
    "import os\n",
    "from PIL import Image, ImageDraw\n",
    "import requests\n",
    "\n",
    "# Dataset from: https://github.com/facebookresearch/IMGUR5K-Handwriting-Dataset\n",
    "class ImgurDataset():\n",
    "    def __init__(self, dataset_dir):\n",
    "        self.dataset_dir = dataset_dir\n",
    "        self._load_annotations()\n",
    "\n",
    "    def _load_annotations(self):\n",
    "        with open(os.path.join(self.dataset_dir, \"dataset_info\\imgur5k_annotations.json\"), \"r\") as file:\n",
    "            data = json.load(file)\n",
    "        \n",
    "        self.index_to_ann_map = data.get(\"index_to_ann_map\", {})\n",
    "        self.ann_id = data.get(\"ann_id\", {})\n",
    "        self.index_to_image_info = data.get(\"index_id\", {})\n",
    "\n",
    "    def display_image(self, index_id):\n",
    "        image_info = self.index_to_image_info.get(index_id)\n",
    "        if image_info is None:\n",
    "            print(\"Image not found for index:\", index_id)\n",
    "            return\n",
    "        \n",
    "        image_path = os.path.join(self.dataset_dir, image_info.get(\"image_path\"))\n",
    "        if image_path is None:\n",
    "            print(\"Image path not found for index:\", index_id)\n",
    "            return\n",
    "        \n",
    "        image = Image.open(image_path)\n",
    "        draw = ImageDraw.Draw(image)\n",
    "        \n",
    "        ann_ids = self.index_to_ann_map.get(index_id, [])\n",
    "        for ann_id in ann_ids:\n",
    "            annotation = self.ann_id.get(ann_id)\n",
    "            if annotation is None:\n",
    "                continue\n",
    "            \n",
    "            bounding_box = annotation.get(\"bounding_box\")\n",
    "            word = annotation.get(\"word\")\n",
    "            if bounding_box is None:\n",
    "                continue\n",
    "            \n",
    "            bounding_box = json.loads(bounding_box)\n",
    "            # Extract bounding box coordinates\n",
    "            xc, yc, w, h, a = bounding_box\n",
    "            # Draw bounding box\n",
    "            draw.rectangle([(xc - w/2, yc - h/2), (xc + w/2, yc + h/2)], outline=\"red\")\n",
    "            # Draw text\n",
    "            draw.text((xc - w/2, yc - h/2 - 20), word, fill=\"blue\")\n",
    "        \n",
    "        image.show()"
   ]
  },
  {
   "cell_type": "code",
   "execution_count": 65,
   "metadata": {},
   "outputs": [],
   "source": [
    "# Usage example\n",
    "dataset = ImgurDataset(dataset_dir=r'C:\\Users\\IsaacStalley\\Documents\\GitHub\\IMGUR5K-Handwriting-Dataset-main')"
   ]
  },
  {
   "cell_type": "code",
   "execution_count": 70,
   "metadata": {},
   "outputs": [],
   "source": [
    "dataset.display_image('N9LcS8Q')"
   ]
  }
 ],
 "metadata": {
  "kernelspec": {
   "display_name": "Python 3",
   "language": "python",
   "name": "python3"
  },
  "language_info": {
   "codemirror_mode": {
    "name": "ipython",
    "version": 3
   },
   "file_extension": ".py",
   "mimetype": "text/x-python",
   "name": "python",
   "nbconvert_exporter": "python",
   "pygments_lexer": "ipython3",
   "version": "3.11.8"
  }
 },
 "nbformat": 4,
 "nbformat_minor": 2
}
