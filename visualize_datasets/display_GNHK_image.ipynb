{
 "cells": [
  {
   "cell_type": "code",
   "execution_count": 21,
   "metadata": {},
   "outputs": [],
   "source": [
    "import os\n",
    "import json\n",
    "from PIL import Image, ImageDraw, ExifTags\n",
    "\n",
    "# Dataset from: https://github.com/GoodNotes/GNHK-dataset\n",
    "class GNHKdataset():\n",
    "    def __init__(self, dataset_dir):\n",
    "        self.dataset_dir = dataset_dir\n",
    "        self.image_paths = []\n",
    "        self.annotation_paths = []\n",
    "        self._load_data()\n",
    "\n",
    "    def _load_data(self):\n",
    "        # Iterate through files in the dataset directory\n",
    "        for file_name in os.listdir(self.dataset_dir):\n",
    "            if file_name.endswith('.jpg'):\n",
    "                # Found an image file, add to image_paths\n",
    "                self.image_paths.append(os.path.join(self.dataset_dir, file_name))\n",
    "                \n",
    "                # Corresponding annotation file\n",
    "                annotation_name = file_name.replace('.jpg', '.json')\n",
    "                annotation_path = os.path.join(self.dataset_dir, annotation_name)\n",
    "                self.annotation_paths.append(annotation_path)\n",
    "\n",
    "    def display_image(self, image_id):\n",
    "        image_path = self.image_paths[image_id]\n",
    "        annotation_path = self.annotation_paths[image_id]\n",
    "\n",
    "        # Load image\n",
    "        image = Image.open(image_path)\n",
    "        exif = image._getexif()\n",
    "        if exif is not None:\n",
    "            orientation = next((k for k, v in ExifTags.TAGS.items() if v == 'Orientation'), None)\n",
    "            if orientation in exif:\n",
    "                if exif[orientation] == 3:\n",
    "                    image = image.rotate(180, expand=True)\n",
    "                elif exif[orientation] == 6:\n",
    "                    image = image.rotate(270, expand=True)\n",
    "                elif exif[orientation] == 8:\n",
    "                    image = image.rotate(90, expand=True)\n",
    "        draw = ImageDraw.Draw(image)\n",
    "\n",
    "        # Load annotations from JSON\n",
    "        with open(annotation_path, 'r') as f:\n",
    "            annotations = json.load(f)\n",
    "\n",
    "        # Draw bounding boxes\n",
    "        for annotation in annotations:\n",
    "            polygon = annotation['polygon']\n",
    "            x_coordinates = [polygon['x0'],polygon['x1'],polygon['x2'],polygon['x3']]\n",
    "            y_coordinates = [polygon['y0'],polygon['y1'],polygon['y2'],polygon['y3']]\n",
    "            # Calculate minimum and maximum coordinates\n",
    "            xmin = min(x_coordinates)\n",
    "            ymin = min(y_coordinates)\n",
    "            xmax = max(x_coordinates)\n",
    "            ymax = max(y_coordinates)\n",
    "            draw.rectangle([xmin, ymin, xmax, ymax], outline=\"red\")\n",
    "\n",
    "        # Show image\n",
    "        image.show()"
   ]
  },
  {
   "cell_type": "code",
   "execution_count": 31,
   "metadata": {},
   "outputs": [],
   "source": [
    "# Example usage:\n",
    "dataset = GNHKdataset(dataset_dir=r'C:\\Users\\IsaacStalley\\Documents\\GitHub\\GNHKdataset')\n",
    "dataset.display_image(21)  # Display first image with annotations"
   ]
  }
 ],
 "metadata": {
  "kernelspec": {
   "display_name": "Python 3",
   "language": "python",
   "name": "python3"
  },
  "language_info": {
   "codemirror_mode": {
    "name": "ipython",
    "version": 3
   },
   "file_extension": ".py",
   "mimetype": "text/x-python",
   "name": "python",
   "nbconvert_exporter": "python",
   "pygments_lexer": "ipython3",
   "version": "3.11.8"
  }
 },
 "nbformat": 4,
 "nbformat_minor": 2
}
