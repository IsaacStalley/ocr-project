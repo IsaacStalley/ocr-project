{
 "cells": [
  {
   "cell_type": "code",
   "execution_count": 15,
   "metadata": {},
   "outputs": [],
   "source": [
    "import os\n",
    "from PIL import Image, ImageDraw\n",
    "\n",
    "class IAMDataset():\n",
    "    def __init__(self, dataset_dir):\n",
    "        self.root_dir = dataset_dir\n",
    "        self.image_paths = []\n",
    "        self.annotations = {}\n",
    "        self._load_data()\n",
    "\n",
    "    def _load_data(self):\n",
    "        # Iterate through files in the dataset directory\n",
    "        image_path = os.path.join(self.root_dir, 'formsA-D')\n",
    "        for file_name in os.listdir(image_path):\n",
    "            if file_name.endswith('.png'):\n",
    "                self.image_paths.append(file_name)\n",
    "                self.annotations[file_name] = []\n",
    "\n",
    "        # Load annotations from words.txt\n",
    "        annotation_path = os.path.join(self.root_dir, 'ascii/words.txt')\n",
    "        with open(annotation_path, 'r') as f:\n",
    "            lines = f.readlines()\n",
    "\n",
    "        # Process annotations\n",
    "        for line in lines:\n",
    "            if not line.startswith('#'):\n",
    "                parts = line.strip().split()\n",
    "                image_id = parts[0].split(\"-\")[0] + \"-\" + parts[0].split(\"-\")[1]\n",
    "                image_path = f'{image_id}.png'\n",
    "                if image_path in self.annotations:\n",
    "                    self.annotations[image_path].append(parts[3:7])  # Append bounding box coordinates\n",
    "\n",
    "    def display_image(self, image_id):\n",
    "        image_id = self.image_paths[image_id]\n",
    "        image_path = os.path.join(self.root_dir, 'formsA-D')\n",
    "        image_path = os.path.join(image_path, image_id)\n",
    "\n",
    "        # Load image\n",
    "        image = Image.open(image_path)\n",
    "        draw = ImageDraw.Draw(image)\n",
    "\n",
    "        # Find highest and lowest bounding boxes\n",
    "        highest_y_min = float('inf')\n",
    "        lowest_y_max = -1\n",
    "        for bbox in self.annotations[image_id]:\n",
    "            y_min = int(bbox[1])\n",
    "            y_max = y_min + int(bbox[3])\n",
    "            highest_y_min = min(highest_y_min, y_min)\n",
    "            lowest_y_max = max(lowest_y_max, y_max)\n",
    "        \n",
    "        threshold=10\n",
    "        # Add threshold\n",
    "        highest_y_min = max(0, highest_y_min - threshold)\n",
    "        lowest_y_max = min(image.height, lowest_y_max + threshold)\n",
    "\n",
    "        # Crop image\n",
    "        image = image.crop((0, highest_y_min, image.width, lowest_y_max))\n",
    "\n",
    "        # Draw bounding boxes\n",
    "        draw = ImageDraw.Draw(image)\n",
    "        for bbox in self.annotations[image_id]:\n",
    "            x_min, y_min, width, height = map(int, bbox)\n",
    "            x_max = x_min + width\n",
    "            y_max = y_min + height\n",
    "            assert x_min < x_max\n",
    "            draw.rectangle([x_min, y_min - highest_y_min, x_max, y_max - highest_y_min], outline=\"red\")\n",
    "\n",
    "        # Show image\n",
    "        image.show()"
   ]
  },
  {
   "cell_type": "code",
   "execution_count": 16,
   "metadata": {},
   "outputs": [
    {
     "ename": "AssertionError",
     "evalue": "",
     "output_type": "error",
     "traceback": [
      "\u001b[1;31m---------------------------------------------------------------------------\u001b[0m",
      "\u001b[1;31mAssertionError\u001b[0m                            Traceback (most recent call last)",
      "Cell \u001b[1;32mIn[16], line 5\u001b[0m\n\u001b[0;32m      2\u001b[0m images_folder \u001b[38;5;241m=\u001b[39m \u001b[38;5;124mr\u001b[39m\u001b[38;5;124m'\u001b[39m\u001b[38;5;124mC:\u001b[39m\u001b[38;5;124m\\\u001b[39m\u001b[38;5;124mUsers\u001b[39m\u001b[38;5;124m\\\u001b[39m\u001b[38;5;124mIsaacStalley\u001b[39m\u001b[38;5;124m\\\u001b[39m\u001b[38;5;124mDocuments\u001b[39m\u001b[38;5;124m\\\u001b[39m\u001b[38;5;124mGitHub\u001b[39m\u001b[38;5;124m\\\u001b[39m\u001b[38;5;124mIAM-dataset\u001b[39m\u001b[38;5;124m'\u001b[39m\n\u001b[0;32m      3\u001b[0m annotation_path \u001b[38;5;241m=\u001b[39m \u001b[38;5;124mr\u001b[39m\u001b[38;5;124m'\u001b[39m\u001b[38;5;124mC:\u001b[39m\u001b[38;5;124m\\\u001b[39m\u001b[38;5;124mUsers\u001b[39m\u001b[38;5;124m\\\u001b[39m\u001b[38;5;124mIsaacStalley\u001b[39m\u001b[38;5;124m\\\u001b[39m\u001b[38;5;124mDocuments\u001b[39m\u001b[38;5;124m\\\u001b[39m\u001b[38;5;124mGitHub\u001b[39m\u001b[38;5;124m\\\u001b[39m\u001b[38;5;124mIAM-dataset\u001b[39m\u001b[38;5;124m\\\u001b[39m\u001b[38;5;124mascii\u001b[39m\u001b[38;5;124m\\\u001b[39m\u001b[38;5;124mwords.txt\u001b[39m\u001b[38;5;124m'\u001b[39m\n\u001b[1;32m----> 5\u001b[0m dataset \u001b[38;5;241m=\u001b[39m \u001b[43mIAMDataset\u001b[49m\u001b[43m(\u001b[49m\u001b[43mimages_folder\u001b[49m\u001b[43m)\u001b[49m\n\u001b[0;32m      6\u001b[0m dataset\u001b[38;5;241m.\u001b[39mdisplay_image(\u001b[38;5;241m1\u001b[39m)  \u001b[38;5;66;03m# Display the first image with annotations\u001b[39;00m\n",
      "Cell \u001b[1;32mIn[15], line 9\u001b[0m, in \u001b[0;36mIAMDataset.__init__\u001b[1;34m(self, dataset_dir)\u001b[0m\n\u001b[0;32m      7\u001b[0m \u001b[38;5;28mself\u001b[39m\u001b[38;5;241m.\u001b[39mimage_paths \u001b[38;5;241m=\u001b[39m []\n\u001b[0;32m      8\u001b[0m \u001b[38;5;28mself\u001b[39m\u001b[38;5;241m.\u001b[39mannotations \u001b[38;5;241m=\u001b[39m {}\n\u001b[1;32m----> 9\u001b[0m \u001b[38;5;28;43mself\u001b[39;49m\u001b[38;5;241;43m.\u001b[39;49m\u001b[43m_load_data\u001b[49m\u001b[43m(\u001b[49m\u001b[43m)\u001b[49m\n",
      "Cell \u001b[1;32mIn[15], line 28\u001b[0m, in \u001b[0;36mIAMDataset._load_data\u001b[1;34m(self)\u001b[0m\n\u001b[0;32m     26\u001b[0m \u001b[38;5;28;01mif\u001b[39;00m \u001b[38;5;129;01mnot\u001b[39;00m line\u001b[38;5;241m.\u001b[39mstartswith(\u001b[38;5;124m'\u001b[39m\u001b[38;5;124m#\u001b[39m\u001b[38;5;124m'\u001b[39m):\n\u001b[0;32m     27\u001b[0m     parts \u001b[38;5;241m=\u001b[39m line\u001b[38;5;241m.\u001b[39mstrip()\u001b[38;5;241m.\u001b[39msplit()\n\u001b[1;32m---> 28\u001b[0m     \u001b[38;5;28;01massert\u001b[39;00m parts[\u001b[38;5;241m3\u001b[39m] \u001b[38;5;241m<\u001b[39m parts[\u001b[38;5;241m5\u001b[39m]\n\u001b[0;32m     29\u001b[0m     image_id \u001b[38;5;241m=\u001b[39m parts[\u001b[38;5;241m0\u001b[39m]\u001b[38;5;241m.\u001b[39msplit(\u001b[38;5;124m\"\u001b[39m\u001b[38;5;124m-\u001b[39m\u001b[38;5;124m\"\u001b[39m)[\u001b[38;5;241m0\u001b[39m] \u001b[38;5;241m+\u001b[39m \u001b[38;5;124m\"\u001b[39m\u001b[38;5;124m-\u001b[39m\u001b[38;5;124m\"\u001b[39m \u001b[38;5;241m+\u001b[39m parts[\u001b[38;5;241m0\u001b[39m]\u001b[38;5;241m.\u001b[39msplit(\u001b[38;5;124m\"\u001b[39m\u001b[38;5;124m-\u001b[39m\u001b[38;5;124m\"\u001b[39m)[\u001b[38;5;241m1\u001b[39m]\n\u001b[0;32m     30\u001b[0m     image_path \u001b[38;5;241m=\u001b[39m \u001b[38;5;124mf\u001b[39m\u001b[38;5;124m'\u001b[39m\u001b[38;5;132;01m{\u001b[39;00mimage_id\u001b[38;5;132;01m}\u001b[39;00m\u001b[38;5;124m.png\u001b[39m\u001b[38;5;124m'\u001b[39m\n",
      "\u001b[1;31mAssertionError\u001b[0m: "
     ]
    }
   ],
   "source": [
    "# Path to the folder containing images\n",
    "images_folder = r'C:\\Users\\IsaacStalley\\Documents\\GitHub\\IAM-dataset'\n",
    "annotation_path = r'C:\\Users\\IsaacStalley\\Documents\\GitHub\\IAM-dataset\\ascii\\words.txt'\n",
    "\n",
    "dataset = IAMDataset(images_folder)\n",
    "dataset.display_image(1)  # Display the first image with annotations"
   ]
  }
 ],
 "metadata": {
  "kernelspec": {
   "display_name": "Python 3",
   "language": "python",
   "name": "python3"
  },
  "language_info": {
   "codemirror_mode": {
    "name": "ipython",
    "version": 3
   },
   "file_extension": ".py",
   "mimetype": "text/x-python",
   "name": "python",
   "nbconvert_exporter": "python",
   "pygments_lexer": "ipython3",
   "version": "3.11.8"
  }
 },
 "nbformat": 4,
 "nbformat_minor": 2
}
