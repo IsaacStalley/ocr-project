{
 "cells": [
  {
   "cell_type": "code",
   "execution_count": 1,
   "metadata": {},
   "outputs": [],
   "source": [
    "from ocr_system import TextRecognitionSystem\n",
    "\n",
    "ocr = TextRecognitionSystem()\n"
   ]
  },
  {
   "cell_type": "code",
   "execution_count": 5,
   "metadata": {},
   "outputs": [
    {
     "name": "stdout",
     "output_type": "stream",
     "text": [
      "sel the chiel captive said with both mouths\n",
      "before she can enjey lily-yo and her companion\n",
      "flor this other man creature plaialy useless\n",
      "must help our great plan the invasion bondi\n",
      "asked what 1se flor and cily-yo you arrise\n",
      "here at good time memories of the heavy world\n",
      "and its savage lipe still presh in\n"
     ]
    }
   ],
   "source": [
    "IMAGE = '../test_images/m06-091.png'\n",
    "\n",
    "words, line_indices = ocr.process_image(IMAGE)\n",
    "\n",
    "\n",
    "\n",
    "# Group the words by line\n",
    "words_by_line = []\n",
    "current_line = []\n",
    "current_index = line_indices[0]\n",
    "\n",
    "for word, index in zip(words, line_indices):\n",
    "    if index == current_index:\n",
    "        current_line.append(word)\n",
    "    else:\n",
    "        words_by_line.append(current_line)\n",
    "        current_line = [word]\n",
    "        current_index = index\n",
    "\n",
    "# Append the last line\n",
    "words_by_line.append(current_line)\n",
    "\n",
    "# Join words by line and then join lines with newline character\n",
    "lines = [' '.join(line) for line in words_by_line]\n",
    "final_string = '\\n'.join(lines)\n",
    "\n",
    "# Print the final string\n",
    "print(final_string)"
   ]
  }
 ],
 "metadata": {
  "kernelspec": {
   "display_name": "Python 3",
   "language": "python",
   "name": "python3"
  },
  "language_info": {
   "codemirror_mode": {
    "name": "ipython",
    "version": 3
   },
   "file_extension": ".py",
   "mimetype": "text/x-python",
   "name": "python",
   "nbconvert_exporter": "python",
   "pygments_lexer": "ipython3",
   "version": "3.11.8"
  }
 },
 "nbformat": 4,
 "nbformat_minor": 2
}
